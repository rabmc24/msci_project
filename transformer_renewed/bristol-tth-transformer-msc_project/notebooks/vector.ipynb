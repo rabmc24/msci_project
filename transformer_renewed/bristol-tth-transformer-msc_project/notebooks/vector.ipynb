{
 "cells": [
  {
   "cell_type": "code",
   "execution_count": 6,
   "id": "c1f7c749-6f1a-45b6-9b9a-36094c32357d",
   "metadata": {},
   "outputs": [],
   "source": [
    "# Autoreload \n",
    "%reload_ext autoreload\n",
    "%autoreload 2\n",
    "%matplotlib inline\n",
    "\n",
    "# Bacis libraries #\n",
    "import os\n",
    "import sys\n",
    "import awkward as ak\n",
    "import pandas as pd\n",
    "\n",
    "# you need vector installed (eg `conda install vector`)\n",
    "import vector\n",
    "vector.register_awkward() # this should be in your script or notebook, otherwise you get weird awkward behaviour\n"
   ]
  },
  {
   "cell_type": "code",
   "execution_count": 8,
   "id": "13d76e7f-63df-4270-a7fd-4db108de4ac8",
   "metadata": {},
   "outputs": [
    {
     "name": "stdout",
     "output_type": "stream",
     "text": [
      "    dataset  entry  DiJet_mass          HT  InputMet_InputJet_mindPhi  \\\n",
      "0    ttH125     13  341.072355  640.688171                   1.371094   \n",
      "1    ttH125     41  438.984885  572.167297                   0.222534   \n",
      "2    ttH125    103  216.669163  483.973785                   0.987305   \n",
      "3    ttH125    128  282.625573  537.730591                   0.949219   \n",
      "4    ttH125    130  363.934216  565.500122                   1.049805   \n",
      "..      ...    ...         ...         ...                        ...   \n",
      "995  ttH125   4380  124.491931  791.179321                   0.496094   \n",
      "996  ttH125   4383  274.458768  491.537476                   1.429688   \n",
      "997  ttH125   4384  156.971951  372.686340                   1.434570   \n",
      "998  ttH125   4423  618.197189  971.668945                   0.252441   \n",
      "999  ttH125   4430  363.220452  693.408936                   0.183838   \n",
      "\n",
      "     InputMet_phi  InputMet_pt   MHT_phi      MHT_pt    MinChi  ...  \\\n",
      "0       -2.791016       421.00 -2.723288  391.416199  0.989503  ...   \n",
      "1       -1.810547       223.25 -2.031608  217.169205  0.888001  ...   \n",
      "2       -2.919922       267.75 -2.735934  229.776871  1.249071  ...   \n",
      "3       -1.981445       213.25 -2.077984  223.895447  1.088281  ...   \n",
      "4        1.896484       217.75  1.843299  224.203979  0.987971  ...   \n",
      "..            ...          ...       ...         ...       ...  ...   \n",
      "995      2.556641       456.00  2.437842  427.163666  1.188938  ...   \n",
      "996      2.529297       299.00  2.686074  272.305420  1.169663  ...   \n",
      "997     -2.132812       247.75 -2.542018  253.662735  1.385142  ...   \n",
      "998     -3.078125       526.50 -3.072611  519.362671  0.291108  ...   \n",
      "999     -0.474365       293.75 -0.421318  284.325287  0.234368  ...   \n",
      "\n",
      "         hashed_filename  ldphi_bjet  ldphi_jet ncleanedBJet ncleanedJet  \\\n",
      "0    2056500955164308770    2.612549   2.612549            2           5   \n",
      "1    2056500955164308770    1.573730   2.722656            1           8   \n",
      "2    2056500955164308770    1.800764   1.800764            3           7   \n",
      "3    2056500955164308770    1.633771   3.082990            1           6   \n",
      "4    2056500955164308770    1.700562   2.146467            1           5   \n",
      "..                   ...         ...        ...          ...         ...   \n",
      "995 -4907330461729247463    2.918701   2.918701            1           5   \n",
      "996 -4907330461729247463    2.276123   2.276123            1           5   \n",
      "997 -4907330461729247463    2.922852   2.922852            2           5   \n",
      "998 -4907330461729247463    0.814435   3.050705            1           6   \n",
      "999 -4907330461729247463    2.804914   2.804914            2           7   \n",
      "\n",
      "    region sdphi_bjet sdphi_jet weight_nominal     xs_weight  \n",
      "0        0   1.369123  2.165998   9.393444e-08  8.695861e-08  \n",
      "1        8        NaN  2.544904   1.049098e-07  8.695861e-08  \n",
      "2        0   2.462873  2.112305   1.068131e-07  8.695861e-08  \n",
      "3        9        NaN  0.948242   9.954075e-08  8.695861e-08  \n",
      "4        0        NaN  1.049805   9.075116e-08  8.695861e-08  \n",
      "..     ...        ...       ...            ...           ...  \n",
      "995      8        NaN  3.035139   6.970245e-08  8.695861e-08  \n",
      "996      0        NaN  1.429670   4.174434e-08  8.695861e-08  \n",
      "997      0   1.434570  2.885254   5.223708e-09  8.695861e-08  \n",
      "998      6        NaN  0.251935   8.156657e-08  8.695861e-08  \n",
      "999      7   0.183838  0.183838   8.380623e-08  8.695861e-08  \n",
      "\n",
      "[1000 rows x 29 columns]\n",
      "Index(['dataset', 'entry', 'DiJet_mass', 'HT', 'InputMet_InputJet_mindPhi',\n",
      "       'InputMet_phi', 'InputMet_pt', 'MHT_phi', 'MHT_pt', 'MinChi',\n",
      "       'MinOmegaHat', 'MinOmegaTilde', 'Pred', 'cleanedJet_area',\n",
      "       'cleanedJet_btagDeepB', 'cleanedJet_eta', 'cleanedJet_mass',\n",
      "       'cleanedJet_phi', 'cleanedJet_pt', 'hashed_filename', 'ldphi_bjet',\n",
      "       'ldphi_jet', 'ncleanedBJet', 'ncleanedJet', 'region', 'sdphi_bjet',\n",
      "       'sdphi_jet', 'weight_nominal', 'xs_weight'],\n",
      "      dtype='object')\n"
     ]
    }
   ],
   "source": [
    "df = pd.read_hdf(\"../ttH/df_ml_inputs.hd5\")[:1000] # limiting to small number of events just to make this notebook run faster\n",
    "print (df)\n",
    "print (df.columns)"
   ]
  },
  {
   "cell_type": "code",
   "execution_count": 10,
   "id": "6ef73ec4-d2ad-43c4-a4af-15e990bd288c",
   "metadata": {},
   "outputs": [
    {
     "name": "stdout",
     "output_type": "stream",
     "text": [
      "[[{pt: 335, eta: -0.613, phi: -0.178, mass: 51.4, area: 0.519, ...}, ...],\n",
      " [{pt: 129, eta: -1.33, phi: 0.912, mass: 12.9, area: 0.499, ...}, ..., {...}],\n",
      " [{pt: 119, eta: -0.514, phi: 1.56, mass: 12, area: 0.499, ...}, ..., {...}],\n",
      " [{pt: 214, eta: 0.976, phi: 1.22, mass: 27.2, area: 0.509, ...}, ..., {...}],\n",
      " [{pt: 225, eta: -0.423, phi: -2.24, mass: 27.1, area: 0.509, ...}, ..., {...}],\n",
      " [{pt: 188, eta: 0.479, phi: 3.06, mass: 27.7, area: 0.519, ...}, ..., {...}],\n",
      " [{pt: 214, eta: 0.428, phi: -2.76, mass: 19.9, area: 0.519, ...}, ..., {...}],\n",
      " [{pt: 188, eta: 0.0845, phi: -0.414, mass: 26.1, area: 0.489, ...}, ...],\n",
      " [{pt: 108, eta: -0.0836, phi: -1.34, mass: 13, area: 0.459, ...}, ..., {...}],\n",
      " [{pt: 290, eta: -0.309, phi: 0.929, mass: 20.1, area: 0.459, ...}, ..., {...}],\n",
      " ...,\n",
      " [{pt: 202, eta: -0.286, phi: -1.27, mass: 20, area: 0.459, ...}, ..., {...}],\n",
      " [{pt: 295, eta: -1.63, phi: -2.12, mass: 28.8, area: 0.499, ...}, ..., {...}],\n",
      " [{pt: 415, eta: -1.17, phi: 0.054, mass: 71.4, area: 0.499, ...}, ..., {...}],\n",
      " [{pt: 390, eta: 0.45, phi: 0.819, mass: 83.3, area: 0.718, ...}, ..., {...}],\n",
      " [{pt: 410, eta: -1.37, phi: -0.362, mass: 60, area: 0.529, ...}, ..., {...}],\n",
      " [{pt: 171, eta: 0.0613, phi: 0.253, mass: 19.9, area: 0.449, ...}, ..., {...}],\n",
      " [{pt: 131, eta: -0.574, phi: 0.79, mass: 16.4, area: 0.479, ...}, ..., {...}],\n",
      " [{pt: 684, eta: 0.394, phi: -0.0274, mass: 36.9, area: 0.489, ...}, ...],\n",
      " [{pt: 198, eta: -0.695, phi: 3, mass: 23.1, area: 0.479, btag: ..., ...}, ...]]\n",
      "1000 * var * Momentum4D[\n",
      "    pt: float64,\n",
      "    eta: float64,\n",
      "    phi: float64,\n",
      "    mass: float64,\n",
      "    area: float64,\n",
      "    btag: float64\n",
      "]\n"
     ]
    }
   ],
   "source": [
    "jets = ak.zip(\n",
    "    {\n",
    "        # the inputs of the 4-vector\n",
    "        'pt' : df['cleanedJet_pt'],\n",
    "        'eta' : df['cleanedJet_eta'],\n",
    "        'phi' : df['cleanedJet_phi'],\n",
    "        'mass' : df['cleanedJet_mass'],\n",
    "        # note : could have used 'px','py','pz','E' just the same\n",
    "        # we can also add other info to the vectors\n",
    "        'area' : df['cleanedJet_area'],\n",
    "        'btag' : df['cleanedJet_btagDeepB'],\n",
    "    },\n",
    "    with_name = 'Momentum4D'\n",
    ")\n",
    "jets.show()\n",
    "jets.type.show()\n",
    "# You see the type is \"1000 * var * Momentum4D\"\n",
    "# This means we have 1000 events, with variable length, each item being a Momentum4D object from vector"
   ]
  },
  {
   "cell_type": "code",
   "execution_count": 12,
   "id": "881f354f-60a7-4a37-82d3-9cf56d11a70d",
   "metadata": {},
   "outputs": [
    {
     "name": "stdout",
     "output_type": "stream",
     "text": [
      "[[335, 155, 65, 49.1, 36.2], ..., [198, 155, 102, 84.3, 78.9, 40.8, 34.4]]\n",
      "[[-0.613, -0.0162, -0.236, -1.27, 0.132], ..., [-0.695, -0.143, ..., -1.07]]\n",
      "[[-0.178, 1.33, 0.768, 2.12, -2.58], ..., [3, -0.291, 2.77, ..., 1.58, -1.13]]\n"
     ]
    }
   ],
   "source": [
    "# Check what we gave it\n",
    "print (jets.pt)\n",
    "print (jets.eta)\n",
    "print (jets.phi)"
   ]
  },
  {
   "cell_type": "code",
   "execution_count": 13,
   "id": "164d7b1b-4642-4698-8c4f-98bd769ca5ec",
   "metadata": {},
   "outputs": [
    {
     "name": "stdout",
     "output_type": "stream",
     "text": [
      "[[330, 37.6, 46.8, -25.7, -30.7], ..., [-196, 149, -94.7, ..., -0.219, 14.7]]\n",
      "[[-59.5, 151, 45.1, 41.8, -19.2], ..., [27.2, -44.5, 37, ..., 40.8, -31.1]]\n",
      "[[-218, -2.51, -15.5, -80.6, 4.8], ..., [-149, -22.2, -128, ..., 17.9, -44.3]]\n"
     ]
    }
   ],
   "source": [
    "# Now we have access to the other frame\n",
    "print (jets.px)\n",
    "print (jets.py)\n",
    "print (jets.pz)"
   ]
  },
  {
   "cell_type": "code",
   "execution_count": 26,
   "id": "0fd6ec2a-2ac8-4d3d-aa40-047ece422980",
   "metadata": {},
   "outputs": [
    {
     "name": "stdout",
     "output_type": "stream",
     "text": [
      "[[0.519, 0.519, 0.409, 0.519, 0.479], ..., [0.479, 0.499, ..., 0.499, 0.539]]\n",
      "[[0.633, 0.0941, 0.0132, 0.74, 0.0328], [...], ..., [0.806, 0.707, ..., 0.0141]]\n"
     ]
    }
   ],
   "source": [
    "# Note, we also still access to the additional info we put in the vector\n",
    "print (jets.area)\n",
    "print (jets.btag)"
   ]
  },
  {
   "cell_type": "code",
   "execution_count": 15,
   "id": "e232c910-1615-42f9-a8d8-9b1587fe2748",
   "metadata": {},
   "outputs": [
    {
     "name": "stdout",
     "output_type": "stream",
     "text": [
      "[0.633, 0.0473, 0.978, 0.0583, 0.0105, ..., 0.75, 0.995, 0.997, 0.0687, 0.806]\n"
     ]
    }
   ],
   "source": [
    "# Can take the leading jet btag\n",
    "print (jets[:,0].btag)"
   ]
  },
  {
   "cell_type": "code",
   "execution_count": 17,
   "id": "3d8dc822-72f7-4a6c-8cac-23a2d55010f6",
   "metadata": {},
   "outputs": [
    {
     "name": "stdout",
     "output_type": "stream",
     "text": [
      "[[0.633, 0.0941, 0.0132, 0.74, 0.0328],\n",
      " [0.0473, 0.0484, 0.024, 0.0208, 0.915, 0.00893, 0.211, 0.0161],\n",
      " [0.978, 0.334, 0.0246, 0.0201, 0.976, 0.634, 0.0352],\n",
      " [0.0583, 0.139, 0.0101, 0.123, 0.0132, 0.977],\n",
      " [0.0105, 0.0284, 0.37, 0.17, 0.581],\n",
      " [0.898, 0.983, 0.0125, 0.0427, 0.018, 0.074, 0.0523],\n",
      " [0.0998, 0.353, 0.12, 0.74, 0.0466],\n",
      " [0.0187, 0.0197, -2, 0.0997, 0.205, 0.596],\n",
      " [0.0203, 0.785, 0.0323, 0.0136, 0.108, 0.547],\n",
      " [0.96, 0.479, 0.0215, 0.00855, 0.0619, 0.999, 0.012, 0.0189],\n",
      " ...,\n",
      " [0.323, 0.0171, 0.0237, 0.0505, 0.0163, 0.0123, 0.984, 0.0149],\n",
      " [0.148, 0.286, 0.892, 1, 0.0205, 0.0862, 0.123],\n",
      " [0.0791, 0.0652, 0.996, 0.0761, -2],\n",
      " [0.22, 0.0276, 0.498, 0.165, 0.992],\n",
      " [0.75, 0.156, 0.014, -2, 0.108],\n",
      " [0.995, 0.00922, 0.0109, 0.122, 0.0724],\n",
      " [0.997, 0.0469, 0.05, 0.966, 0.0499],\n",
      " [0.0687, 0.303, 0.964, 0.0154, 0.0515, 0.0145],\n",
      " [0.806, 0.707, 0.0143, 0.0106, 0.0878, 0.0982, 0.0141]]\n",
      "[[335, 155, 65, 49.1, 36.2],\n",
      " [129, 93.6, 75.8, 66.3, 61.6, 55.1, 53.8, 36.9],\n",
      " [119, 97, 75.8, 55.1, 55.1, 42.9, 38.8],\n",
      " [214, 101, 71.8, 61.2, 48.6, 40.4],\n",
      " [225, 124, 96.7, 71.1, 48.8],\n",
      " [188, 138, 89.5, 55.5, 49.6, 45.3, 33.8],\n",
      " [214, 200, 119, 102, 83.7],\n",
      " [188, 114, 102, 102, 100, 65.5],\n",
      " [108, 105, 97.5, 92.7, 70.3, 39.2],\n",
      " [290, 187, 163, 101, 88.4, 82, 55.2, 36.9],\n",
      " ...,\n",
      " [202, 195, 188, 156, 94.7, 88.3, 37.5, 30.7],\n",
      " [295, 147, 106, 98.9, 95.2, 43.8, 39.2],\n",
      " [415, 143, 67.6, 49.7, 37.4],\n",
      " [390, 142, 128, 79.8, 52.9],\n",
      " [410, 142, 110, 99, 30.4],\n",
      " [171, 110, 106, 61.9, 41.5],\n",
      " [131, 85.3, 64.8, 58.6, 33.4],\n",
      " [684, 133, 47.2, 38.7, 38.4, 30.2],\n",
      " [198, 155, 102, 84.3, 78.9, 40.8, 34.4]]\n"
     ]
    }
   ],
   "source": [
    "jets.btag.show()\n",
    "jets.pt.show()"
   ]
  },
  {
   "cell_type": "code",
   "execution_count": 18,
   "id": "f4cd99d8-a08e-47a8-8853-11c0c835e8de",
   "metadata": {},
   "outputs": [
    {
     "name": "stdout",
     "output_type": "stream",
     "text": [
      "[[3, 0, 1, 4, 2],\n",
      " [4, 6, 1, 0, 2, 3, 7, 5],\n",
      " [0, 4, 5, 1, 6, 2, 3],\n",
      " [5, 1, 3, 0, 4, 2],\n",
      " [4, 2, 3, 1, 0],\n",
      " [1, 0, 5, 6, 3, 4, 2],\n",
      " [3, 1, 2, 0, 4],\n",
      " [5, 4, 3, 1, 0, 2],\n",
      " [1, 5, 4, 2, 0, 3],\n",
      " [5, 0, 1, 4, 2, 7, 6, 3],\n",
      " ...,\n",
      " [6, 0, 3, 2, 1, 4, 7, 5],\n",
      " [3, 2, 1, 0, 6, 5, 4],\n",
      " [2, 0, 3, 1, 4],\n",
      " [4, 2, 0, 3, 1],\n",
      " [0, 1, 4, 2, 3],\n",
      " [0, 3, 4, 2, 1],\n",
      " [0, 3, 2, 4, 1],\n",
      " [2, 1, 0, 4, 3, 5],\n",
      " [0, 1, 5, 4, 2, 6, 3]]\n",
      "[[0.74, 0.633, 0.0941, 0.0328, 0.0132],\n",
      " [0.915, 0.211, 0.0484, 0.0473, 0.024, 0.0208, 0.0161, 0.00893],\n",
      " [0.978, 0.976, 0.634, 0.334, 0.0352, 0.0246, 0.0201],\n",
      " [0.977, 0.139, 0.123, 0.0583, 0.0132, 0.0101],\n",
      " [0.581, 0.37, 0.17, 0.0284, 0.0105],\n",
      " [0.983, 0.898, 0.074, 0.0523, 0.0427, 0.018, 0.0125],\n",
      " [0.74, 0.353, 0.12, 0.0998, 0.0466],\n",
      " [0.596, 0.205, 0.0997, 0.0197, 0.0187, -2],\n",
      " [0.785, 0.547, 0.108, 0.0323, 0.0203, 0.0136],\n",
      " [0.999, 0.96, 0.479, 0.0619, 0.0215, 0.0189, 0.012, 0.00855],\n",
      " ...,\n",
      " [0.984, 0.323, 0.0505, 0.0237, 0.0171, 0.0163, 0.0149, 0.0123],\n",
      " [1, 0.892, 0.286, 0.148, 0.123, 0.0862, 0.0205],\n",
      " [0.996, 0.0791, 0.0761, 0.0652, -2],\n",
      " [0.992, 0.498, 0.22, 0.165, 0.0276],\n",
      " [0.75, 0.156, 0.108, 0.014, -2],\n",
      " [0.995, 0.122, 0.0724, 0.0109, 0.00922],\n",
      " [0.997, 0.966, 0.05, 0.0499, 0.0469],\n",
      " [0.964, 0.303, 0.0687, 0.0515, 0.0154, 0.0145],\n",
      " [0.806, 0.707, 0.0982, 0.0878, 0.0143, 0.0141, 0.0106]]\n",
      "[[49.1, 335, 155, 36.2, 65],\n",
      " [61.6, 53.8, 93.6, 129, 75.8, 66.3, 36.9, 55.1],\n",
      " [119, 55.1, 42.9, 97, 38.8, 75.8, 55.1],\n",
      " [40.4, 101, 61.2, 214, 48.6, 71.8],\n",
      " [48.8, 96.7, 71.1, 124, 225],\n",
      " [138, 188, 45.3, 33.8, 55.5, 49.6, 89.5],\n",
      " [102, 200, 119, 214, 83.7],\n",
      " [65.5, 100, 102, 114, 188, 102],\n",
      " [105, 39.2, 70.3, 97.5, 108, 92.7],\n",
      " [82, 290, 187, 88.4, 163, 36.9, 55.2, 101],\n",
      " ...,\n",
      " [37.5, 202, 156, 188, 195, 94.7, 30.7, 88.3],\n",
      " [98.9, 106, 147, 295, 39.2, 43.8, 95.2],\n",
      " [67.6, 415, 49.7, 143, 37.4],\n",
      " [52.9, 128, 390, 79.8, 142],\n",
      " [410, 142, 30.4, 110, 99],\n",
      " [171, 61.9, 41.5, 106, 110],\n",
      " [131, 58.6, 64.8, 33.4, 85.3],\n",
      " [47.2, 133, 684, 38.4, 38.7, 30.2],\n",
      " [198, 155, 40.8, 78.9, 102, 34.4, 84.3]]\n"
     ]
    }
   ],
   "source": [
    "# Above you can see our jets are pt-ordered, what if we want them btag-ordered\n",
    "idx = ak.argsort(jets.btag,ascending=False)\n",
    "idx.show()\n",
    "# We use the index to change the order\n",
    "jets_sorted = jets[idx]\n",
    "jets_sorted.btag.show()\n",
    "jets_sorted.pt.show()\n",
    "# Now they are btag ordered"
   ]
  },
  {
   "cell_type": "code",
   "execution_count": 21,
   "id": "37d763c1-2ab1-4839-b4a0-9ddf318a105a",
   "metadata": {},
   "outputs": [
    {
     "data": {
      "text/html": [
       "<pre>[1.02,\n",
       " 2.79,\n",
       " 1.83,\n",
       " 0.701,\n",
       " 2.49,\n",
       " 1.01,\n",
       " 2.93,\n",
       " 3.82,\n",
       " 0.946,\n",
       " 2.89,\n",
       " ...,\n",
       " 1.73,\n",
       " 2.99,\n",
       " 1.77,\n",
       " 2.93,\n",
       " 3.48,\n",
       " 0.927,\n",
       " 2.35,\n",
       " 2.5,\n",
       " 0.427]\n",
       "--------------------\n",
       "type: 1000 * float64</pre>"
      ],
      "text/plain": [
       "<Array [1.02, 2.79, 1.83, 0.701, ..., 2.35, 2.5, 0.427] type='1000 * float64'>"
      ]
     },
     "execution_count": 21,
     "metadata": {},
     "output_type": "execute_result"
    }
   ],
   "source": [
    "# We can have even more fun : delta R between first and third jet\n",
    "jets[:,0].deltaR(jets[:,2])"
   ]
  },
  {
   "cell_type": "code",
   "execution_count": 24,
   "id": "4b40af0a-a8bf-4410-883d-b70bf5bc88da",
   "metadata": {},
   "outputs": [
    {
     "name": "stdout",
     "output_type": "stream",
     "text": [
      "[5, 8, 7, 6, 5, 7, 5, 6, 6, 8, 5, 5, 6, ..., 8, 6, 6, 8, 7, 5, 5, 5, 5, 5, 6, 7]\n"
     ]
    },
    {
     "data": {
      "text/plain": [
       "(5, 11)"
      ]
     },
     "execution_count": 24,
     "metadata": {},
     "output_type": "execute_result"
    }
   ],
   "source": [
    "# To count jets \n",
    "print (ak.num(jets,axis=1))\n",
    "# maximum and minimum number of jets\n",
    "ak.min(ak.num(jets,axis=1)),ak.max(ak.num(jets,axis=1))"
   ]
  },
  {
   "cell_type": "code",
   "execution_count": 32,
   "id": "845de3fa-a7a0-4b29-9614-359474302476",
   "metadata": {},
   "outputs": [
    {
     "name": "stdout",
     "output_type": "stream",
     "text": [
      "[{pt: 421, eta: 0, phi: -2.79, mass: 0},\n",
      " {pt: 223, eta: 0, phi: -1.81, mass: 0},\n",
      " {pt: 268, eta: 0, phi: -2.92, mass: 0},\n",
      " {pt: 213, eta: 0, phi: -1.98, mass: 0},\n",
      " {pt: 218, eta: 0, phi: 1.9, mass: 0},\n",
      " {pt: 314, eta: 0, phi: 0.861, mass: 0},\n",
      " {pt: 287, eta: 0, phi: -0.863, mass: 0},\n",
      " {pt: 250, eta: 0, phi: 2.28, mass: 0},\n",
      " {pt: 270, eta: 0, phi: 2.49, mass: 0},\n",
      " {pt: 202, eta: 0, phi: -1.97, mass: 0},\n",
      " ...,\n",
      " {pt: 274, eta: 0, phi: 2.58, mass: 0},\n",
      " {pt: 392, eta: 0, phi: -0.158, mass: 0},\n",
      " {pt: 466, eta: 0, phi: 2.84, mass: 0},\n",
      " {pt: 277, eta: 0, phi: -1.22, mass: 0},\n",
      " {pt: 456, eta: 0, phi: 2.56, mass: 0},\n",
      " {pt: 299, eta: 0, phi: 2.53, mass: 0},\n",
      " {pt: 248, eta: 0, phi: -2.13, mass: 0},\n",
      " {pt: 526, eta: 0, phi: -3.08, mass: 0},\n",
      " {pt: 294, eta: 0, phi: -0.474, mass: 0}]\n",
      "1000 * Momentum4D[\n",
      "    pt: float64,\n",
      "    eta: float64,\n",
      "    phi: float64,\n",
      "    mass: int64\n",
      "]\n"
     ]
    }
   ],
   "source": [
    "# We can also save the MET into a 4-vector\n",
    "met = ak.zip(\n",
    "    {\n",
    "        # the inputs of the 4-vector\n",
    "        'pt' : df['InputMet_pt'],\n",
    "        'eta' : 0.,\n",
    "        'phi' : df['InputMet_phi'],\n",
    "        'mass' : 0,\n",
    "    },\n",
    "    with_name = 'Momentum4D'\n",
    ")\n",
    "met.show()\n",
    "met.type.show()"
   ]
  },
  {
   "cell_type": "code",
   "execution_count": 35,
   "id": "5025469e-405a-4bab-9328-291d6593965e",
   "metadata": {},
   "outputs": [
    {
     "data": {
      "text/plain": [
       "(<Array [-395, -53, -261, -85.1, ..., -132, -525, 261] type='1000 * float64'>,\n",
       " <Array [-2.79, -1.81, -2.92, ..., -2.13, -3.08, -0.474] type='1000 * float64'>)"
      ]
     },
     "execution_count": 35,
     "metadata": {},
     "output_type": "execute_result"
    }
   ],
   "source": [
    "met.px,met.phi"
   ]
  },
  {
   "cell_type": "code",
   "execution_count": 36,
   "id": "e567ff3c-82c2-4986-883c-8f1b7a7f4fdd",
   "metadata": {},
   "outputs": [
    {
     "data": {
      "text/html": [
       "<pre>[0,\n",
       " 0,\n",
       " 0,\n",
       " 0,\n",
       " 0,\n",
       " 0,\n",
       " 0,\n",
       " 0,\n",
       " 0,\n",
       " 0,\n",
       " ...,\n",
       " 0,\n",
       " 0,\n",
       " 0,\n",
       " 0,\n",
       " 0,\n",
       " 0,\n",
       " 0,\n",
       " 0,\n",
       " 0]\n",
       "--------------------\n",
       "type: 1000 * float64</pre>"
      ],
      "text/plain": [
       "<Array [0, 0, 0, 0, 0, 0, 0, 0, ..., 0, 0, 0, 0, 0, 0, 0] type='1000 * float64'>"
      ]
     },
     "execution_count": 36,
     "metadata": {},
     "output_type": "execute_result"
    }
   ],
   "source": [
    "# Obviously, no forward momentum\n",
    "met.pz"
   ]
  },
  {
   "cell_type": "code",
   "execution_count": null,
   "id": "5063da92-6643-43fa-a5a7-2cc3240d4087",
   "metadata": {},
   "outputs": [],
   "source": []
  }
 ],
 "metadata": {
  "kernelspec": {
   "display_name": "Python 3 (ipykernel)",
   "language": "python",
   "name": "python3"
  },
  "language_info": {
   "codemirror_mode": {
    "name": "ipython",
    "version": 3
   },
   "file_extension": ".py",
   "mimetype": "text/x-python",
   "name": "python",
   "nbconvert_exporter": "python",
   "pygments_lexer": "ipython3",
   "version": "3.12.7"
  }
 },
 "nbformat": 4,
 "nbformat_minor": 5
}
